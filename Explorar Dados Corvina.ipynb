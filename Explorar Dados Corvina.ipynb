{
 "cells": [
  {
   "cell_type": "code",
   "execution_count": 4,
   "metadata": {
    "collapsed": true
   },
   "outputs": [],
   "source": [
    "import seaborn\n",
    "import numpy as np\n",
    "import matplotlib.pyplot as plt\n",
    "\n",
    "from io import BytesIO\n",
    "from pandas import read_csv\n",
    "from IPython.display import set_matplotlib_formats\n",
    "\n",
    "%matplotlib inline\n",
    "\n",
    "kw = {'axes.edgecolor': '0', 'text.color': '0', 'ytick.color': '0', 'xtick.color': '0',\n",
    "      'ytick.major.size': 5, 'xtick.major.size': 5, 'axes.labelcolor': '0'}\n",
    "\n",
    "seaborn.set_style(\"whitegrid\", kw)"
   ]
  },
  {
   "cell_type": "code",
   "execution_count": 5,
   "metadata": {
    "collapsed": false
   },
   "outputs": [],
   "source": [
    "kw = dict(na_values='NaN', sep=',', encoding='utf-8',\n",
    "          skipinitialspace=True, index_col=False, low_memory=False)\n",
    "\n",
    "df = read_csv(\"Dados_Corvinas_BDE99.csv\", **kw)\n",
    "\n",
    "\n",
    "#Retira os valores que tiverem recuperação fora do intervalo 50 - 120\n",
    "mask_recovery_liver = np.logical_and(df['Liver Recovery'] <= 120, df['Liver Recovery'] >= 50)\n",
    "df = df[mask_recovery_liver]\n",
    "\n",
    "mask_recovery_muscle = np.logical_and(df['Muscle Recovery'] <= 120, df['Muscle Recovery'] >= 50)\n",
    "df = df[mask_recovery_muscle]"
   ]
  },
  {
   "cell_type": "code",
   "execution_count": 6,
   "metadata": {
    "collapsed": false
   },
   "outputs": [
    {
     "data": {
      "text/plain": [
       "Experiment          object\n",
       "Day                  int64\n",
       "Sample              object\n",
       "ID Liver            object\n",
       "Weight (g)         float64\n",
       "Size (cm)          float64\n",
       "Liver Recovery     float64\n",
       "%Lip Liver         float64\n",
       "Liver Weight       float64\n",
       "LSI                float64\n",
       "CF                 float64\n",
       "BDE47 Liver        float64\n",
       "BDE99 Liver        float64\n",
       "ID Muscle           object\n",
       "%Lip Muscle        float64\n",
       "Muscle Recovery    float64\n",
       "BDE47 Muscle       float64\n",
       "BDE99 Muscle       float64\n",
       "dtype: object"
      ]
     },
     "execution_count": 6,
     "metadata": {},
     "output_type": "execute_result"
    }
   ],
   "source": [
    "#Mostra com o tipo de dado em cada coluna\n",
    "df.dtypes"
   ]
  },
  {
   "cell_type": "code",
   "execution_count": 7,
   "metadata": {
    "collapsed": false
   },
   "outputs": [
    {
     "data": {
      "text/html": [
       "<div style=\"max-height:1000px;max-width:1500px;overflow:auto;\">\n",
       "<table border=\"1\" class=\"dataframe\">\n",
       "  <thead>\n",
       "    <tr style=\"text-align: right;\">\n",
       "      <th></th>\n",
       "      <th>Experiment</th>\n",
       "      <th>Day</th>\n",
       "      <th>Sample</th>\n",
       "      <th>ID Liver</th>\n",
       "      <th>Weight (g)</th>\n",
       "      <th>Size (cm)</th>\n",
       "      <th>Liver Recovery</th>\n",
       "      <th>%Lip Liver</th>\n",
       "      <th>Liver Weight</th>\n",
       "      <th>LSI</th>\n",
       "      <th>CF</th>\n",
       "      <th>BDE47 Liver</th>\n",
       "      <th>BDE99 Liver</th>\n",
       "      <th>ID Muscle</th>\n",
       "      <th>%Lip Muscle</th>\n",
       "      <th>Muscle Recovery</th>\n",
       "      <th>BDE47 Muscle</th>\n",
       "      <th>BDE99 Muscle</th>\n",
       "    </tr>\n",
       "  </thead>\n",
       "  <tbody>\n",
       "    <tr>\n",
       "      <th>0</th>\n",
       "      <td> BDE99 </td>\n",
       "      <td> 0</td>\n",
       "      <td> A </td>\n",
       "      <td> 1997 F </td>\n",
       "      <td> 20.09</td>\n",
       "      <td> 12.8</td>\n",
       "      <td> 73.21</td>\n",
       "      <td> 3.6</td>\n",
       "      <td> 0.14</td>\n",
       "      <td> 0.70</td>\n",
       "      <td> 0.96</td>\n",
       "      <td> 0</td>\n",
       "      <td> 0</td>\n",
       "      <td> 2141 Z </td>\n",
       "      <td> 5.04</td>\n",
       "      <td>  83.60</td>\n",
       "      <td> 0</td>\n",
       "      <td> 0</td>\n",
       "    </tr>\n",
       "    <tr>\n",
       "      <th>1</th>\n",
       "      <td> BDE99 </td>\n",
       "      <td> 0</td>\n",
       "      <td> B </td>\n",
       "      <td> 1998 G </td>\n",
       "      <td> 36.52</td>\n",
       "      <td> 15.5</td>\n",
       "      <td> 98.24</td>\n",
       "      <td> 2.3</td>\n",
       "      <td> 0.33</td>\n",
       "      <td> 0.90</td>\n",
       "      <td> 0.98</td>\n",
       "      <td> 0</td>\n",
       "      <td> 0</td>\n",
       "      <td> 2178 L </td>\n",
       "      <td> 6.00</td>\n",
       "      <td>  90.99</td>\n",
       "      <td> 0</td>\n",
       "      <td> 0</td>\n",
       "    </tr>\n",
       "    <tr>\n",
       "      <th>2</th>\n",
       "      <td> BDE99 </td>\n",
       "      <td> 0</td>\n",
       "      <td> C </td>\n",
       "      <td> 1999 H </td>\n",
       "      <td> 28.74</td>\n",
       "      <td> 14.7</td>\n",
       "      <td> 89.71</td>\n",
       "      <td> 3.5</td>\n",
       "      <td> 0.25</td>\n",
       "      <td> 0.87</td>\n",
       "      <td> 0.90</td>\n",
       "      <td> 0</td>\n",
       "      <td> 0</td>\n",
       "      <td> 2179 M </td>\n",
       "      <td> 4.08</td>\n",
       "      <td>  75.73</td>\n",
       "      <td> 0</td>\n",
       "      <td> 0</td>\n",
       "    </tr>\n",
       "    <tr>\n",
       "      <th>3</th>\n",
       "      <td> BDE99 </td>\n",
       "      <td> 1</td>\n",
       "      <td> A </td>\n",
       "      <td> 2014 X </td>\n",
       "      <td> 23.70</td>\n",
       "      <td> 14.0</td>\n",
       "      <td> 78.40</td>\n",
       "      <td> 1.3</td>\n",
       "      <td> 0.15</td>\n",
       "      <td> 0.63</td>\n",
       "      <td> 0.86</td>\n",
       "      <td> 0</td>\n",
       "      <td> 0</td>\n",
       "      <td> 2208 Q </td>\n",
       "      <td> 0.58</td>\n",
       "      <td>  77.78</td>\n",
       "      <td> 0</td>\n",
       "      <td> 0</td>\n",
       "    </tr>\n",
       "    <tr>\n",
       "      <th>4</th>\n",
       "      <td> BDE99 </td>\n",
       "      <td> 1</td>\n",
       "      <td> B </td>\n",
       "      <td> 2015 Y </td>\n",
       "      <td> 32.80</td>\n",
       "      <td> 15.0</td>\n",
       "      <td> 66.24</td>\n",
       "      <td> 2.8</td>\n",
       "      <td> 0.20</td>\n",
       "      <td> 0.61</td>\n",
       "      <td> 0.97</td>\n",
       "      <td> 0</td>\n",
       "      <td> 0</td>\n",
       "      <td> 2209 R </td>\n",
       "      <td> 0.94</td>\n",
       "      <td> 101.63</td>\n",
       "      <td> 0</td>\n",
       "      <td> 0</td>\n",
       "    </tr>\n",
       "  </tbody>\n",
       "</table>\n",
       "</div>"
      ],
      "text/plain": [
       "  Experiment  Day Sample ID Liver  Weight (g)  Size (cm)  Liver Recovery  \\\n",
       "0     BDE99     0     A   1997 F        20.09       12.8           73.21   \n",
       "1     BDE99     0     B   1998 G        36.52       15.5           98.24   \n",
       "2     BDE99     0     C   1999 H        28.74       14.7           89.71   \n",
       "3     BDE99     1     A   2014 X        23.70       14.0           78.40   \n",
       "4     BDE99     1     B   2015 Y        32.80       15.0           66.24   \n",
       "\n",
       "   %Lip Liver  Liver Weight   LSI    CF  BDE47 Liver  BDE99 Liver ID Muscle  \\\n",
       "0         3.6          0.14  0.70  0.96            0            0   2141 Z    \n",
       "1         2.3          0.33  0.90  0.98            0            0   2178 L    \n",
       "2         3.5          0.25  0.87  0.90            0            0   2179 M    \n",
       "3         1.3          0.15  0.63  0.86            0            0   2208 Q    \n",
       "4         2.8          0.20  0.61  0.97            0            0   2209 R    \n",
       "\n",
       "   %Lip Muscle  Muscle Recovery  BDE47 Muscle  BDE99 Muscle  \n",
       "0         5.04            83.60             0             0  \n",
       "1         6.00            90.99             0             0  \n",
       "2         4.08            75.73             0             0  \n",
       "3         0.58            77.78             0             0  \n",
       "4         0.94           101.63             0             0  "
      ]
     },
     "execution_count": 7,
     "metadata": {},
     "output_type": "execute_result"
    }
   ],
   "source": [
    "#Preview da tabela\n",
    "df.head()"
   ]
  },
  {
   "cell_type": "code",
   "execution_count": 8,
   "metadata": {
    "collapsed": false
   },
   "outputs": [
    {
     "data": {
      "image/png": "[encoded data removed]",
      "text/plain": [
       "<matplotlib.figure.Figure at 0x7f6e0325bda0>"
      ]
     },
     "metadata": {},
     "output_type": "display_data"
    }
   ],
   "source": [
    "#Correlação de todos versus todos\n",
    "ax = seaborn.corrplot(df, annot=False, diag_names=False)"
   ]
  },
  {
   "cell_type": "code",
   "execution_count": 9,
   "metadata": {
    "collapsed": false
   },
   "outputs": [
    {
     "data": {
      "text/html": [
       "<div style=\"max-height:1000px;max-width:1500px;overflow:auto;\">\n",
       "<table border=\"1\" class=\"dataframe\">\n",
       "  <thead>\n",
       "    <tr style=\"text-align: right;\">\n",
       "      <th></th>\n",
       "      <th>Weight (g)</th>\n",
       "      <th>Size (cm)</th>\n",
       "      <th>Liver Recovery</th>\n",
       "      <th>%Lip Liver</th>\n",
       "      <th>Liver Weight</th>\n",
       "      <th>LSI</th>\n",
       "      <th>CF</th>\n",
       "      <th>BDE47 Liver</th>\n",
       "      <th>BDE99 Liver</th>\n",
       "      <th>%Lip Muscle</th>\n",
       "      <th>Muscle Recovery</th>\n",
       "      <th>BDE47 Muscle</th>\n",
       "      <th>BDE99 Muscle</th>\n",
       "    </tr>\n",
       "    <tr>\n",
       "      <th>Day</th>\n",
       "      <th></th>\n",
       "      <th></th>\n",
       "      <th></th>\n",
       "      <th></th>\n",
       "      <th></th>\n",
       "      <th></th>\n",
       "      <th></th>\n",
       "      <th></th>\n",
       "      <th></th>\n",
       "      <th></th>\n",
       "      <th></th>\n",
       "      <th></th>\n",
       "      <th></th>\n",
       "    </tr>\n",
       "  </thead>\n",
       "  <tbody>\n",
       "    <tr>\n",
       "      <th>0 </th>\n",
       "      <td> 28.450000</td>\n",
       "      <td> 14.333333</td>\n",
       "      <td>  87.053333</td>\n",
       "      <td> 3.133333</td>\n",
       "      <td> 0.240000</td>\n",
       "      <td> 0.823333</td>\n",
       "      <td> 0.946667</td>\n",
       "      <td>   0.000000</td>\n",
       "      <td>   0.000000</td>\n",
       "      <td> 5.040000</td>\n",
       "      <td> 83.440000</td>\n",
       "      <td>  0.000</td>\n",
       "      <td>  0.000000</td>\n",
       "    </tr>\n",
       "    <tr>\n",
       "      <th>1 </th>\n",
       "      <td> 30.816667</td>\n",
       "      <td> 14.750000</td>\n",
       "      <td>  75.811667</td>\n",
       "      <td> 2.683333</td>\n",
       "      <td> 0.213333</td>\n",
       "      <td> 0.680000</td>\n",
       "      <td> 0.950000</td>\n",
       "      <td>  38.971667</td>\n",
       "      <td>  48.215000</td>\n",
       "      <td> 3.270000</td>\n",
       "      <td> 98.410000</td>\n",
       "      <td>  0.000</td>\n",
       "      <td>  0.000000</td>\n",
       "    </tr>\n",
       "    <tr>\n",
       "      <th>5 </th>\n",
       "      <td> 31.000000</td>\n",
       "      <td> 14.700000</td>\n",
       "      <td>  61.190000</td>\n",
       "      <td> 0.400000</td>\n",
       "      <td> 0.300000</td>\n",
       "      <td> 0.970000</td>\n",
       "      <td> 0.980000</td>\n",
       "      <td>   0.000000</td>\n",
       "      <td>   0.000000</td>\n",
       "      <td> 0.900000</td>\n",
       "      <td> 68.440000</td>\n",
       "      <td>  0.000</td>\n",
       "      <td>  0.000000</td>\n",
       "    </tr>\n",
       "    <tr>\n",
       "      <th>15</th>\n",
       "      <td> 38.281667</td>\n",
       "      <td> 16.116667</td>\n",
       "      <td> 100.538333</td>\n",
       "      <td> 0.816667</td>\n",
       "      <td> 0.326667</td>\n",
       "      <td> 0.836667</td>\n",
       "      <td> 0.908333</td>\n",
       "      <td>  59.946667</td>\n",
       "      <td> 106.576667</td>\n",
       "      <td> 1.306667</td>\n",
       "      <td> 83.255000</td>\n",
       "      <td>  0.000</td>\n",
       "      <td>  0.000000</td>\n",
       "    </tr>\n",
       "    <tr>\n",
       "      <th>30</th>\n",
       "      <td> 26.685000</td>\n",
       "      <td> 14.333333</td>\n",
       "      <td> 101.875000</td>\n",
       "      <td> 1.600000</td>\n",
       "      <td> 0.256667</td>\n",
       "      <td> 0.946667</td>\n",
       "      <td> 0.898333</td>\n",
       "      <td> 279.356667</td>\n",
       "      <td> 149.991667</td>\n",
       "      <td> 1.511667</td>\n",
       "      <td> 72.633333</td>\n",
       "      <td> 66.045</td>\n",
       "      <td> 73.911667</td>\n",
       "    </tr>\n",
       "  </tbody>\n",
       "</table>\n",
       "</div>"
      ],
      "text/plain": [
       "     Weight (g)  Size (cm)  Liver Recovery  %Lip Liver  Liver Weight  \\\n",
       "Day                                                                    \n",
       "0     28.450000  14.333333       87.053333    3.133333      0.240000   \n",
       "1     30.816667  14.750000       75.811667    2.683333      0.213333   \n",
       "5     31.000000  14.700000       61.190000    0.400000      0.300000   \n",
       "15    38.281667  16.116667      100.538333    0.816667      0.326667   \n",
       "30    26.685000  14.333333      101.875000    1.600000      0.256667   \n",
       "\n",
       "          LSI        CF  BDE47 Liver  BDE99 Liver  %Lip Muscle  \\\n",
       "Day                                                              \n",
       "0    0.823333  0.946667     0.000000     0.000000     5.040000   \n",
       "1    0.680000  0.950000    38.971667    48.215000     3.270000   \n",
       "5    0.970000  0.980000     0.000000     0.000000     0.900000   \n",
       "15   0.836667  0.908333    59.946667   106.576667     1.306667   \n",
       "30   0.946667  0.898333   279.356667   149.991667     1.511667   \n",
       "\n",
       "     Muscle Recovery  BDE47 Muscle  BDE99 Muscle  \n",
       "Day                                               \n",
       "0          83.440000         0.000      0.000000  \n",
       "1          98.410000         0.000      0.000000  \n",
       "5          68.440000         0.000      0.000000  \n",
       "15         83.255000         0.000      0.000000  \n",
       "30         72.633333        66.045     73.911667  "
      ]
     },
     "execution_count": 9,
     "metadata": {},
     "output_type": "execute_result"
    }
   ],
   "source": [
    "#Média por dia\n",
    "g = df.groupby('Day')\n",
    "mean_df = g.mean()\n",
    "mean_df.head()\n",
    "#g.describe().head()"
   ]
  },
  {
   "cell_type": "code",
   "execution_count": 10,
   "metadata": {
    "collapsed": false
   },
   "outputs": [
    {
     "data": {
      "text/html": [
       "<div style=\"max-height:1000px;max-width:1500px;overflow:auto;\">\n",
       "<table border=\"1\" class=\"dataframe\">\n",
       "  <thead>\n",
       "    <tr style=\"text-align: right;\">\n",
       "      <th></th>\n",
       "      <th>Weight (g)</th>\n",
       "      <th>Size (cm)</th>\n",
       "      <th>Liver Recovery</th>\n",
       "      <th>%Lip Liver</th>\n",
       "      <th>Liver Weight</th>\n",
       "      <th>LSI</th>\n",
       "      <th>CF</th>\n",
       "      <th>BDE47 Liver</th>\n",
       "      <th>BDE99 Liver</th>\n",
       "      <th>%Lip Muscle</th>\n",
       "      <th>Muscle Recovery</th>\n",
       "      <th>BDE47 Muscle</th>\n",
       "      <th>BDE99 Muscle</th>\n",
       "    </tr>\n",
       "    <tr>\n",
       "      <th>Day</th>\n",
       "      <th></th>\n",
       "      <th></th>\n",
       "      <th></th>\n",
       "      <th></th>\n",
       "      <th></th>\n",
       "      <th></th>\n",
       "      <th></th>\n",
       "      <th></th>\n",
       "      <th></th>\n",
       "      <th></th>\n",
       "      <th></th>\n",
       "      <th></th>\n",
       "      <th></th>\n",
       "    </tr>\n",
       "  </thead>\n",
       "  <tbody>\n",
       "    <tr>\n",
       "      <th>0 </th>\n",
       "      <td> 28.740</td>\n",
       "      <td> 14.70</td>\n",
       "      <td>  89.710</td>\n",
       "      <td> 3.50</td>\n",
       "      <td> 0.250</td>\n",
       "      <td> 0.870</td>\n",
       "      <td> 0.960</td>\n",
       "      <td>   0.000</td>\n",
       "      <td>   0.000</td>\n",
       "      <td> 5.040</td>\n",
       "      <td> 83.600</td>\n",
       "      <td>  0.00</td>\n",
       "      <td>  0.00</td>\n",
       "    </tr>\n",
       "    <tr>\n",
       "      <th>1 </th>\n",
       "      <td> 32.350</td>\n",
       "      <td> 14.75</td>\n",
       "      <td>  70.800</td>\n",
       "      <td> 2.25</td>\n",
       "      <td> 0.225</td>\n",
       "      <td> 0.660</td>\n",
       "      <td> 0.945</td>\n",
       "      <td>   0.000</td>\n",
       "      <td>   0.000</td>\n",
       "      <td> 3.060</td>\n",
       "      <td> 98.600</td>\n",
       "      <td>  0.00</td>\n",
       "      <td>  0.00</td>\n",
       "    </tr>\n",
       "    <tr>\n",
       "      <th>5 </th>\n",
       "      <td> 31.000</td>\n",
       "      <td> 14.70</td>\n",
       "      <td>  61.190</td>\n",
       "      <td> 0.40</td>\n",
       "      <td> 0.300</td>\n",
       "      <td> 0.970</td>\n",
       "      <td> 0.980</td>\n",
       "      <td>   0.000</td>\n",
       "      <td>   0.000</td>\n",
       "      <td> 0.900</td>\n",
       "      <td> 68.440</td>\n",
       "      <td>  0.00</td>\n",
       "      <td>  0.00</td>\n",
       "    </tr>\n",
       "    <tr>\n",
       "      <th>15</th>\n",
       "      <td> 39.460</td>\n",
       "      <td> 16.30</td>\n",
       "      <td> 102.200</td>\n",
       "      <td> 0.80</td>\n",
       "      <td> 0.350</td>\n",
       "      <td> 0.880</td>\n",
       "      <td> 0.890</td>\n",
       "      <td>   0.000</td>\n",
       "      <td>  76.615</td>\n",
       "      <td> 0.425</td>\n",
       "      <td> 85.725</td>\n",
       "      <td>  0.00</td>\n",
       "      <td>  0.00</td>\n",
       "    </tr>\n",
       "    <tr>\n",
       "      <th>30</th>\n",
       "      <td> 25.225</td>\n",
       "      <td> 14.20</td>\n",
       "      <td> 103.775</td>\n",
       "      <td> 1.50</td>\n",
       "      <td> 0.240</td>\n",
       "      <td> 0.945</td>\n",
       "      <td> 0.910</td>\n",
       "      <td> 231.845</td>\n",
       "      <td> 191.610</td>\n",
       "      <td> 1.400</td>\n",
       "      <td> 70.320</td>\n",
       "      <td> 76.15</td>\n",
       "      <td> 85.01</td>\n",
       "    </tr>\n",
       "  </tbody>\n",
       "</table>\n",
       "</div>"
      ],
      "text/plain": [
       "     Weight (g)  Size (cm)  Liver Recovery  %Lip Liver  Liver Weight    LSI  \\\n",
       "Day                                                                           \n",
       "0        28.740      14.70          89.710        3.50         0.250  0.870   \n",
       "1        32.350      14.75          70.800        2.25         0.225  0.660   \n",
       "5        31.000      14.70          61.190        0.40         0.300  0.970   \n",
       "15       39.460      16.30         102.200        0.80         0.350  0.880   \n",
       "30       25.225      14.20         103.775        1.50         0.240  0.945   \n",
       "\n",
       "        CF  BDE47 Liver  BDE99 Liver  %Lip Muscle  Muscle Recovery  \\\n",
       "Day                                                                  \n",
       "0    0.960        0.000        0.000        5.040           83.600   \n",
       "1    0.945        0.000        0.000        3.060           98.600   \n",
       "5    0.980        0.000        0.000        0.900           68.440   \n",
       "15   0.890        0.000       76.615        0.425           85.725   \n",
       "30   0.910      231.845      191.610        1.400           70.320   \n",
       "\n",
       "     BDE47 Muscle  BDE99 Muscle  \n",
       "Day                              \n",
       "0            0.00          0.00  \n",
       "1            0.00          0.00  \n",
       "5            0.00          0.00  \n",
       "15           0.00          0.00  \n",
       "30          76.15         85.01  "
      ]
     },
     "execution_count": 10,
     "metadata": {},
     "output_type": "execute_result"
    }
   ],
   "source": [
    "#Médiana por dia\n",
    "g = df.groupby('Day')\n",
    "median_df = g.median()\n",
    "median_df.head()\n",
    "#g.describe().head()"
   ]
  },
  {
   "cell_type": "code",
   "execution_count": 11,
   "metadata": {
    "collapsed": false
   },
   "outputs": [
    {
     "name": "stderr",
     "output_type": "stream",
     "text": [
      "/usr/lib/python3.4/site-packages/seaborn/utils.py:247: UserWarning: `offset_spines` is deprecated and will be removed in v0.5\n",
      "  warnings.warn(warn_msg, UserWarning)\n"
     ]
    },
    {
     "data": {
      "image/png": "[encoded data removed]",
      "text/plain": [
       "<matplotlib.figure.Figure at 0x7f6e02ee3f98>"
      ]
     },
     "metadata": {},
     "output_type": "display_data"
    }
   ],
   "source": [
    "#Gráfico com a distribuição do BDE99 e BDE47 (fígado e músculo) ao longo dos dias (todos os dados x média x mediana) \n",
    "# ASSIMILAÇÃO\n",
    "\n",
    "fig, ax = plt.subplots(2,2)\n",
    "\n",
    "p = ax[0,0].plot(df['Day'], df['BDE99 Liver'], '.', color='gray', label='data')\n",
    "m = ax[0,0].plot(mean_df.index, mean_df['BDE99 Liver'], 'ko', label='mean')\n",
    "n = ax[0,0].plot(median_df.index, median_df['BDE99 Liver'], 'ro', label='median')\n",
    "ax[0,0].axis([-1, 35, -10, 300])\n",
    "ax[0,0].grid(True)\n",
    "#ax[0,0].legend(numpoints=1)\n",
    "\n",
    "p = ax[0,1].plot(df['Day'], df['BDE99 Muscle'], '.', color='gray', label='data')\n",
    "m = ax[0,1].plot(mean_df.index, mean_df['BDE99 Muscle'], 'ko', label='mean')\n",
    "n = ax[0,1].plot(median_df.index, median_df['BDE99 Muscle'], 'ro', label='median')\n",
    "ax[0,1].axis([-1, 35, -10, 300])\n",
    "ax[0,1].grid(True)\n",
    "#ax[0,1].legend(numpoints=1)\n",
    "\n",
    "p = ax[1,0].plot(df['Day'], df['BDE47 Liver'], '.', color='gray', label='data')\n",
    "m = ax[1,0].plot(mean_df.index, mean_df['BDE47 Liver'], 'ko', label='mean')\n",
    "n = ax[1,0].plot(median_df.index, median_df['BDE47 Liver'], 'ro', label='median')\n",
    "ax[1,0].axis([-1, 35, -10, 300])\n",
    "ax[1,0].grid(True)\n",
    "#ax[1,0].legend(numpoints=1)\n",
    "\n",
    "p = ax[1,1].plot(df['Day'], df['BDE47 Muscle'], '.', color='gray', label='data')\n",
    "m = ax[1,1].plot(mean_df.index, mean_df['BDE47 Muscle'], 'ko', label='mean')\n",
    "n = ax[1,1].plot(median_df.index, median_df['BDE47 Muscle'], 'ro', label='median')\n",
    "ax[1,1].axis([-1, 35, -10, 300])\n",
    "ax[1,1].grid(True)\n",
    "#ax[1,0].legend(numpoints=1)\n",
    "\n",
    "seaborn.despine(trim=False)\n",
    "seaborn.offset_spines()"
   ]
  },
  {
   "cell_type": "code",
   "execution_count": 12,
   "metadata": {
    "collapsed": false
   },
   "outputs": [
    {
     "name": "stdout",
     "output_type": "stream",
     "text": [
      "p_value = 0.002, std_err = 0.63\n",
      "p_value = 0.251, std_err = 4.96\n"
     ]
    },
    {
     "data": {
      "image/png": "[encoded data removed]",
      "text/plain": [
       "<matplotlib.figure.Figure at 0x7f6e02e3add8>"
      ]
     },
     "metadata": {},
     "output_type": "display_data"
    }
   ],
   "source": [
    "from scipy import stats\n",
    "assim = median_df.ix[:30]\n",
    "depur = median_df.ix[41:]\n",
    "var = \"BDE99 Liver\"\n",
    "\n",
    "def plot_linregress(ax, x, y):\n",
    "    ax.plot(x, y, 'ko')\n",
    "    ax.grid(False)\n",
    "    slope, intercept, r_value, p_value, std_err = stats.linregress(x, y)\n",
    "    print('p_value = %0.3f, std_err = %0.2f' % (p_value, std_err))\n",
    "    xlim, ylim = (x[0], x[-1]), (y[0], y[-1])\n",
    "    y_line = slope * np.array(xlim) + intercept\n",
    "    ax.plot(xlim, y_line, 'k', alpha=0.5)\n",
    "    ax.set_xlim(xlim)\n",
    "    ax.text(0.05, 0.85, r'r$^2$ = %.2f' % r_value**2, transform=ax.transAxes)\n",
    "    ax.text(0.05, 0.75, 'y = %0.2f x  %+0.2f' % (slope, intercept), transform=ax.transAxes)\n",
    "\n",
    "fig, (ax0, ax1) = plt.subplots(ncols=2, figsize=(9, 3))\n",
    "\n",
    "ax0.plot(df.index, df[var], 'k.', alpha=0.5)\n",
    "x, y = assim.index.values, assim[var].values\n",
    "plot_linregress(ax0, x, y)\n",
    "\n",
    "ax1.plot(df.index, df[var], 'k.', alpha=0.5)\n",
    "x, y = depur.index.values, depur[var].values\n",
    "plot_linregress(ax1, x, y)\n",
    "\n",
    "fig.tight_layout()"
   ]
  },
  {
   "cell_type": "code",
   "execution_count": 13,
   "metadata": {
    "collapsed": false
   },
   "outputs": [
    {
     "data": {
      "image/png": "[encoded data removed]",
      "text/plain": [
       "<matplotlib.figure.Figure at 0x7f6e02d07f60>"
      ]
     },
     "metadata": {},
     "output_type": "display_data"
    }
   ],
   "source": [
    "median_df['Day'] = median_df.index\n",
    "\n",
    "fig, (ax1, ax2) = plt.subplots(1, 2, sharey=True, figsize=(9, 3))\n",
    "seaborn.regplot(\"Day\", \"BDE99 Liver\", median_df, ax=ax1)\n",
    "seaborn.boxplot(median_df[\"Day\"], median_df[\"BDE99 Liver\"], color=\"Blues_r\", ax=ax2).set_ylabel(\"\")\n",
    "fig.tight_layout()"
   ]
  },
  {
   "cell_type": "code",
   "execution_count": 81,
   "metadata": {
    "collapsed": false
   },
   "outputs": [
    {
     "data": {
      "image/png": "[encoded data removed]",
      "text/plain": [
       "<matplotlib.figure.Figure at 0x7f9818ac2c18>"
      ]
     },
     "metadata": {},
     "output_type": "display_data"
    }
   ],
   "source": [
    "ax = seaborn.residplot(\"Day\", \"BDE99 Liver\", median_df)"
   ]
  },
  {
   "cell_type": "code",
   "execution_count": 107,
   "metadata": {
    "collapsed": false
   },
   "outputs": [
    {
     "data": {
      "image/png": "[encoded data removed]",
      "text/plain": [
       "<matplotlib.figure.Figure at 0x7f981745cd30>"
      ]
     },
     "metadata": {},
     "output_type": "display_data"
    }
   ],
   "source": [
    "ax = seaborn.jointplot(\"Day\", \"BDE47 Liver\", df, kind=\"reg\")"
   ]
  },
  {
   "cell_type": "code",
   "execution_count": null,
   "metadata": {
    "collapsed": true
   },
   "outputs": [],
   "source": []
  }
 ],
 "metadata": {
  "kernelspec": {
   "display_name": "Python 3",
   "language": "python",
   "name": "python3"
  },
  "language_info": {
   "name": "python",
   "version": "3.4.1"
  }
 },
 "nbformat": 4,
 "nbformat_minor": 0
}
